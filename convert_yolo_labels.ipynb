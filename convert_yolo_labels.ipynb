{
 "cells": [
  {
   "cell_type": "code",
   "execution_count": 1,
   "metadata": {},
   "outputs": [],
   "source": [
    "#Convert xml files to yolo txt files\n",
    "#By Khan\n",
    "import glob\n",
    "import os\n",
    "import pickle\n",
    "import xml.etree.ElementTree as ET\n",
    "from os import listdir, getcwd\n",
    "from os.path import join"
   ]
  },
  {
   "cell_type": "code",
   "execution_count": 8,
   "metadata": {},
   "outputs": [],
   "source": [
    "dir_path = 'IDRiD_413_lables'\n",
    "im_path = 'image'\n",
    "classes = ['Micro', 'Ham', 'HEx', 'SEx', 'OD', 'Optic Disc', 'Macula Area', 'Macular']\n",
    "with open ('obj.names', 'w') as f:\n",
    "    for clas in classes:\n",
    "        f.write('%s\\n' % clas)\n",
    "        \n",
    "f.close()"
   ]
  },
  {
   "cell_type": "code",
   "execution_count": 3,
   "metadata": {},
   "outputs": [],
   "source": [
    "\n",
    "def getImagesInDir(dir_path):\n",
    "    image_list = []\n",
    "    for filename in glob.glob(dir_path + '/*.jpg'):\n",
    "        image_list.append(filename)\n",
    "\n",
    "    return image_list"
   ]
  },
  {
   "cell_type": "code",
   "execution_count": 4,
   "metadata": {},
   "outputs": [],
   "source": [
    "def convert(size, box):\n",
    "    dw = 1./(size[0])\n",
    "    dh = 1./(size[1])\n",
    "    x = (box[0] + box[1])/2.0 - 1\n",
    "    y = (box[2] + box[3])/2.0 - 1\n",
    "    w = box[1] - box[0]\n",
    "    h = box[3] - box[2]\n",
    "    x = \"{:.6f}\".format(x*dw)\n",
    "    w = \"{:.6f}\".format(w*dw)\n",
    "    y = \"{:.6f}\".format(y*dh)\n",
    "    h = \"{:.6f}\".format(h*dh)\n",
    "    return (x,y,w,h)\n"
   ]
  },
  {
   "cell_type": "code",
   "execution_count": 5,
   "metadata": {},
   "outputs": [],
   "source": [
    "\n",
    "def convert_annotation(dir_path, output_path, image_path):\n",
    "    basename = os.path.basename(image_path)\n",
    "    basename_no_ext = os.path.splitext(basename)[0]\n",
    "\n",
    "    in_file = open(dir_path + '/' + basename_no_ext + '.xml')\n",
    "    out_file = open(output_path + basename_no_ext + '.txt', 'w')\n",
    "    tree = ET.parse(in_file)\n",
    "    root = tree.getroot()\n",
    "    size = root.find('size')\n",
    "    w = int(size.find('width').text)\n",
    "    h = int(size.find('height').text)\n",
    "\n",
    "    for obj in root.iter('object'):\n",
    "        difficult = obj.find('difficult').text\n",
    "        cls = obj.find('name').text\n",
    "        if cls not in classes or int(difficult)==1:\n",
    "            continue\n",
    "        cls_id = classes.index(cls)\n",
    "        xmlbox = obj.find('bndbox')\n",
    "        b = (float(xmlbox.find('xmin').text), float(xmlbox.find('xmax').text), float(xmlbox.find('ymin').text), float(xmlbox.find('ymax').text))\n",
    "        bb = convert((w,h), b)\n",
    "        out_file.write(str(cls_id) + \" \" + \" \".join([str(a) for a in bb]) + '\\n')"
   ]
  },
  {
   "cell_type": "code",
   "execution_count": 6,
   "metadata": {},
   "outputs": [
    {
     "name": "stdout",
     "output_type": "stream",
     "text": [
      "Finished processing: IDRiD_413_lables\n"
     ]
    }
   ],
   "source": [
    "cwd = getcwd()\n",
    "\n",
    "\n",
    "xml_dir_path = cwd + '/' + dir_path\n",
    "full_dir_path = cwd + '/' + im_path\n",
    "output_path = cwd +'/yolo/'\n",
    "\n",
    "if not os.path.exists(output_path):\n",
    "    os.makedirs(output_path)\n",
    "\n",
    "image_paths = getImagesInDir(full_dir_path)\n",
    "list_file = open(full_dir_path + '.txt', 'w')\n",
    "\n",
    "for image_path in image_paths:\n",
    "    list_file.write(image_path + '\\n')\n",
    "    convert_annotation(xml_dir_path, output_path, image_path)\n",
    "list_file.close()\n",
    "\n",
    "print(\"Finished processing: \" + dir_path)"
   ]
  },
  {
   "cell_type": "code",
   "execution_count": 15,
   "metadata": {},
   "outputs": [],
   "source": [
    "with open('obj.data', 'w') as f:\n",
    "    f.write('classes = %s\\n' % len(classes))\n",
    "    f.write('train = %s\\nvalid = %s\\nnames = %s\\nbackup = %s' % (str(full_dir_path + '.txt'), str(full_dir_path +'.txt') , str(cwd + '/' + 'obj.names') , str(cwd + '/' + 'weight') ))\n",
    "    \n",
    "f.close()\n",
    "\n",
    "backup = cwd +'/weight'\n",
    "\n",
    "if not os.path.exists(backup):\n",
    "    os.makedirs(backup)"
   ]
  },
  {
   "cell_type": "code",
   "execution_count": null,
   "metadata": {},
   "outputs": [],
   "source": []
  }
 ],
 "metadata": {
  "interpreter": {
   "hash": "31f2aee4e71d21fbe5cf8b01ff0e069b9275f58929596ceb00d14d90e3e16cd6"
  },
  "kernelspec": {
   "display_name": "Python 3.6.9 64-bit",
   "language": "python",
   "name": "python3"
  },
  "language_info": {
   "codemirror_mode": {
    "name": "ipython",
    "version": 3
   },
   "file_extension": ".py",
   "mimetype": "text/x-python",
   "name": "python",
   "nbconvert_exporter": "python",
   "pygments_lexer": "ipython3",
   "version": "3.6.9"
  },
  "orig_nbformat": 4
 },
 "nbformat": 4,
 "nbformat_minor": 2
}
